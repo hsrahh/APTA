{
 "cells": [
  {
   "cell_type": "code",
   "execution_count": 36,
   "id": "8e8c9561-1853-4f09-9529-7d80f989b7e6",
   "metadata": {},
   "outputs": [],
   "source": [
    "import pandas as pd\n",
    "import numpy as np\n",
    "import matplotlib.pyplot as plt\n",
    "import seaborn as sns"
   ]
  },
  {
   "cell_type": "code",
   "execution_count": 2,
   "id": "b7fef9ac-3ea9-4dea-90dd-bd6a3e4e2a54",
   "metadata": {},
   "outputs": [
    {
     "data": {
      "text/html": [
       "<div>\n",
       "<style scoped>\n",
       "    .dataframe tbody tr th:only-of-type {\n",
       "        vertical-align: middle;\n",
       "    }\n",
       "\n",
       "    .dataframe tbody tr th {\n",
       "        vertical-align: top;\n",
       "    }\n",
       "\n",
       "    .dataframe thead th {\n",
       "        text-align: right;\n",
       "    }\n",
       "</style>\n",
       "<table border=\"1\" class=\"dataframe\">\n",
       "  <thead>\n",
       "    <tr style=\"text-align: right;\">\n",
       "      <th></th>\n",
       "      <th>Reference_id</th>\n",
       "      <th>Name</th>\n",
       "      <th>Selected_topic</th>\n",
       "      <th>Quiz_marks</th>\n",
       "      <th>Explanation</th>\n",
       "      <th>Gender</th>\n",
       "      <th>Age</th>\n",
       "      <th>Final_Quiz_marks</th>\n",
       "      <th>Profession</th>\n",
       "      <th>Dashboard_Flow</th>\n",
       "      <th>Engagement_Level</th>\n",
       "      <th>Interactions_Count</th>\n",
       "      <th>Time_Spent_Learning</th>\n",
       "      <th>Quiz_Improvement_Score</th>\n",
       "      <th>Topic_Difficulty</th>\n",
       "    </tr>\n",
       "  </thead>\n",
       "  <tbody>\n",
       "    <tr>\n",
       "      <th>0</th>\n",
       "      <td>KUN84012</td>\n",
       "      <td>Kunal</td>\n",
       "      <td>Functions</td>\n",
       "      <td>2</td>\n",
       "      <td>need improvement</td>\n",
       "      <td>male</td>\n",
       "      <td>20</td>\n",
       "      <td>7</td>\n",
       "      <td>finance employee</td>\n",
       "      <td>positive</td>\n",
       "      <td>High</td>\n",
       "      <td>5</td>\n",
       "      <td>127</td>\n",
       "      <td>5</td>\n",
       "      <td>0</td>\n",
       "    </tr>\n",
       "    <tr>\n",
       "      <th>1</th>\n",
       "      <td>KAB81567</td>\n",
       "      <td>Kabir</td>\n",
       "      <td>File operations</td>\n",
       "      <td>3</td>\n",
       "      <td>good</td>\n",
       "      <td>male</td>\n",
       "      <td>24</td>\n",
       "      <td>2</td>\n",
       "      <td>student</td>\n",
       "      <td>negative</td>\n",
       "      <td>Medium</td>\n",
       "      <td>4</td>\n",
       "      <td>115</td>\n",
       "      <td>-1</td>\n",
       "      <td>2</td>\n",
       "    </tr>\n",
       "    <tr>\n",
       "      <th>2</th>\n",
       "      <td>JAY24384</td>\n",
       "      <td>Jaya</td>\n",
       "      <td>conditional Statement</td>\n",
       "      <td>1</td>\n",
       "      <td>fair</td>\n",
       "      <td>female</td>\n",
       "      <td>23</td>\n",
       "      <td>7</td>\n",
       "      <td>IT employee</td>\n",
       "      <td>positive</td>\n",
       "      <td>Medium</td>\n",
       "      <td>5</td>\n",
       "      <td>85</td>\n",
       "      <td>6</td>\n",
       "      <td>1</td>\n",
       "    </tr>\n",
       "    <tr>\n",
       "      <th>3</th>\n",
       "      <td>SAR84305</td>\n",
       "      <td>Sara</td>\n",
       "      <td>OOPs</td>\n",
       "      <td>4</td>\n",
       "      <td>need improvement</td>\n",
       "      <td>female</td>\n",
       "      <td>26</td>\n",
       "      <td>8</td>\n",
       "      <td>IT employee</td>\n",
       "      <td>neutral</td>\n",
       "      <td>High</td>\n",
       "      <td>3</td>\n",
       "      <td>161</td>\n",
       "      <td>4</td>\n",
       "      <td>0</td>\n",
       "    </tr>\n",
       "    <tr>\n",
       "      <th>4</th>\n",
       "      <td>SAR77949</td>\n",
       "      <td>Sara</td>\n",
       "      <td>Functions</td>\n",
       "      <td>2</td>\n",
       "      <td>excellent</td>\n",
       "      <td>female</td>\n",
       "      <td>23</td>\n",
       "      <td>10</td>\n",
       "      <td>IT employee</td>\n",
       "      <td>negative</td>\n",
       "      <td>High</td>\n",
       "      <td>1</td>\n",
       "      <td>132</td>\n",
       "      <td>8</td>\n",
       "      <td>3</td>\n",
       "    </tr>\n",
       "  </tbody>\n",
       "</table>\n",
       "</div>"
      ],
      "text/plain": [
       "  Reference_id   Name         Selected_topic  Quiz_marks       Explanation  \\\n",
       "0     KUN84012  Kunal              Functions           2  need improvement   \n",
       "1     KAB81567  Kabir        File operations           3              good   \n",
       "2     JAY24384   Jaya  conditional Statement           1              fair   \n",
       "3     SAR84305   Sara                   OOPs           4  need improvement   \n",
       "4     SAR77949   Sara              Functions           2         excellent   \n",
       "\n",
       "   Gender  Age  Final_Quiz_marks        Profession Dashboard_Flow  \\\n",
       "0    male   20                 7  finance employee       positive   \n",
       "1    male   24                 2           student       negative   \n",
       "2  female   23                 7       IT employee       positive   \n",
       "3  female   26                 8       IT employee        neutral   \n",
       "4  female   23                10       IT employee       negative   \n",
       "\n",
       "  Engagement_Level  Interactions_Count  Time_Spent_Learning  \\\n",
       "0             High                   5                  127   \n",
       "1           Medium                   4                  115   \n",
       "2           Medium                   5                   85   \n",
       "3             High                   3                  161   \n",
       "4             High                   1                  132   \n",
       "\n",
       "   Quiz_Improvement_Score  Topic_Difficulty  \n",
       "0                       5                 0  \n",
       "1                      -1                 2  \n",
       "2                       6                 1  \n",
       "3                       4                 0  \n",
       "4                       8                 3  "
      ]
     },
     "execution_count": 2,
     "metadata": {},
     "output_type": "execute_result"
    }
   ],
   "source": [
    "df = pd.read_excel(\"/Users/kartikamusle/Downloads/AI_tutor_outcome_filled_updated.xlsx\")\n",
    "df.head()"
   ]
  },
  {
   "cell_type": "code",
   "execution_count": 3,
   "id": "8989bb56-7754-4b05-8b50-2ac9cbd27810",
   "metadata": {},
   "outputs": [
    {
     "name": "stdout",
     "output_type": "stream",
     "text": [
      "<class 'pandas.core.frame.DataFrame'>\n",
      "RangeIndex: 1200 entries, 0 to 1199\n",
      "Data columns (total 15 columns):\n",
      " #   Column                  Non-Null Count  Dtype \n",
      "---  ------                  --------------  ----- \n",
      " 0   Reference_id            1200 non-null   object\n",
      " 1   Name                    1200 non-null   object\n",
      " 2   Selected_topic          1200 non-null   object\n",
      " 3   Quiz_marks              1200 non-null   int64 \n",
      " 4   Explanation             1200 non-null   object\n",
      " 5   Gender                  1200 non-null   object\n",
      " 6   Age                     1200 non-null   int64 \n",
      " 7   Final_Quiz_marks        1200 non-null   int64 \n",
      " 8   Profession              1200 non-null   object\n",
      " 9   Dashboard_Flow          1200 non-null   object\n",
      " 10  Engagement_Level        1200 non-null   object\n",
      " 11  Interactions_Count      1200 non-null   int64 \n",
      " 12  Time_Spent_Learning     1200 non-null   int64 \n",
      " 13  Quiz_Improvement_Score  1200 non-null   int64 \n",
      " 14  Topic_Difficulty        1200 non-null   int64 \n",
      "dtypes: int64(7), object(8)\n",
      "memory usage: 140.8+ KB\n"
     ]
    }
   ],
   "source": [
    "df.info()"
   ]
  },
  {
   "cell_type": "code",
   "execution_count": 4,
   "id": "509f366b-ddf0-427f-9d35-33bf494b8bca",
   "metadata": {},
   "outputs": [
    {
     "data": {
      "text/html": [
       "<div>\n",
       "<style scoped>\n",
       "    .dataframe tbody tr th:only-of-type {\n",
       "        vertical-align: middle;\n",
       "    }\n",
       "\n",
       "    .dataframe tbody tr th {\n",
       "        vertical-align: top;\n",
       "    }\n",
       "\n",
       "    .dataframe thead th {\n",
       "        text-align: right;\n",
       "    }\n",
       "</style>\n",
       "<table border=\"1\" class=\"dataframe\">\n",
       "  <thead>\n",
       "    <tr style=\"text-align: right;\">\n",
       "      <th></th>\n",
       "      <th>Quiz_marks</th>\n",
       "      <th>Age</th>\n",
       "      <th>Final_Quiz_marks</th>\n",
       "      <th>Interactions_Count</th>\n",
       "      <th>Time_Spent_Learning</th>\n",
       "      <th>Quiz_Improvement_Score</th>\n",
       "      <th>Topic_Difficulty</th>\n",
       "    </tr>\n",
       "  </thead>\n",
       "  <tbody>\n",
       "    <tr>\n",
       "      <th>count</th>\n",
       "      <td>1200.000000</td>\n",
       "      <td>1200.000000</td>\n",
       "      <td>1200.000000</td>\n",
       "      <td>1200.000000</td>\n",
       "      <td>1200.000000</td>\n",
       "      <td>1200.000000</td>\n",
       "      <td>1200.000000</td>\n",
       "    </tr>\n",
       "    <tr>\n",
       "      <th>mean</th>\n",
       "      <td>2.983333</td>\n",
       "      <td>22.512500</td>\n",
       "      <td>5.487500</td>\n",
       "      <td>3.045833</td>\n",
       "      <td>90.970000</td>\n",
       "      <td>2.504167</td>\n",
       "      <td>1.525833</td>\n",
       "    </tr>\n",
       "    <tr>\n",
       "      <th>std</th>\n",
       "      <td>1.412345</td>\n",
       "      <td>2.896867</td>\n",
       "      <td>2.896003</td>\n",
       "      <td>1.420239</td>\n",
       "      <td>44.854681</td>\n",
       "      <td>3.221329</td>\n",
       "      <td>1.112968</td>\n",
       "    </tr>\n",
       "    <tr>\n",
       "      <th>min</th>\n",
       "      <td>1.000000</td>\n",
       "      <td>18.000000</td>\n",
       "      <td>1.000000</td>\n",
       "      <td>1.000000</td>\n",
       "      <td>10.000000</td>\n",
       "      <td>-4.000000</td>\n",
       "      <td>0.000000</td>\n",
       "    </tr>\n",
       "    <tr>\n",
       "      <th>25%</th>\n",
       "      <td>2.000000</td>\n",
       "      <td>20.000000</td>\n",
       "      <td>3.000000</td>\n",
       "      <td>2.000000</td>\n",
       "      <td>54.000000</td>\n",
       "      <td>0.000000</td>\n",
       "      <td>1.000000</td>\n",
       "    </tr>\n",
       "    <tr>\n",
       "      <th>50%</th>\n",
       "      <td>3.000000</td>\n",
       "      <td>22.000000</td>\n",
       "      <td>5.000000</td>\n",
       "      <td>3.000000</td>\n",
       "      <td>94.000000</td>\n",
       "      <td>2.000000</td>\n",
       "      <td>2.000000</td>\n",
       "    </tr>\n",
       "    <tr>\n",
       "      <th>75%</th>\n",
       "      <td>4.000000</td>\n",
       "      <td>25.000000</td>\n",
       "      <td>8.000000</td>\n",
       "      <td>4.000000</td>\n",
       "      <td>120.000000</td>\n",
       "      <td>5.000000</td>\n",
       "      <td>3.000000</td>\n",
       "    </tr>\n",
       "    <tr>\n",
       "      <th>max</th>\n",
       "      <td>5.000000</td>\n",
       "      <td>27.000000</td>\n",
       "      <td>10.000000</td>\n",
       "      <td>5.000000</td>\n",
       "      <td>180.000000</td>\n",
       "      <td>9.000000</td>\n",
       "      <td>3.000000</td>\n",
       "    </tr>\n",
       "  </tbody>\n",
       "</table>\n",
       "</div>"
      ],
      "text/plain": [
       "        Quiz_marks          Age  Final_Quiz_marks  Interactions_Count  \\\n",
       "count  1200.000000  1200.000000       1200.000000         1200.000000   \n",
       "mean      2.983333    22.512500          5.487500            3.045833   \n",
       "std       1.412345     2.896867          2.896003            1.420239   \n",
       "min       1.000000    18.000000          1.000000            1.000000   \n",
       "25%       2.000000    20.000000          3.000000            2.000000   \n",
       "50%       3.000000    22.000000          5.000000            3.000000   \n",
       "75%       4.000000    25.000000          8.000000            4.000000   \n",
       "max       5.000000    27.000000         10.000000            5.000000   \n",
       "\n",
       "       Time_Spent_Learning  Quiz_Improvement_Score  Topic_Difficulty  \n",
       "count          1200.000000             1200.000000       1200.000000  \n",
       "mean             90.970000                2.504167          1.525833  \n",
       "std              44.854681                3.221329          1.112968  \n",
       "min              10.000000               -4.000000          0.000000  \n",
       "25%              54.000000                0.000000          1.000000  \n",
       "50%              94.000000                2.000000          2.000000  \n",
       "75%             120.000000                5.000000          3.000000  \n",
       "max             180.000000                9.000000          3.000000  "
      ]
     },
     "execution_count": 4,
     "metadata": {},
     "output_type": "execute_result"
    }
   ],
   "source": [
    "df.describe()"
   ]
  },
  {
   "cell_type": "code",
   "execution_count": 5,
   "id": "170ec844-d952-4f60-8ed6-d225ae000b74",
   "metadata": {},
   "outputs": [
    {
     "data": {
      "text/plain": [
       "Reference_id              0\n",
       "Name                      0\n",
       "Selected_topic            0\n",
       "Quiz_marks                0\n",
       "Explanation               0\n",
       "Gender                    0\n",
       "Age                       0\n",
       "Final_Quiz_marks          0\n",
       "Profession                0\n",
       "Dashboard_Flow            0\n",
       "Engagement_Level          0\n",
       "Interactions_Count        0\n",
       "Time_Spent_Learning       0\n",
       "Quiz_Improvement_Score    0\n",
       "Topic_Difficulty          0\n",
       "dtype: int64"
      ]
     },
     "execution_count": 5,
     "metadata": {},
     "output_type": "execute_result"
    }
   ],
   "source": [
    "df.isna().sum()"
   ]
  },
  {
   "cell_type": "code",
   "execution_count": 6,
   "id": "8f497b56-78ef-49e8-a1f2-4b89258b020f",
   "metadata": {},
   "outputs": [
    {
     "data": {
      "text/plain": [
       "0"
      ]
     },
     "execution_count": 6,
     "metadata": {},
     "output_type": "execute_result"
    }
   ],
   "source": [
    "df.duplicated().sum()"
   ]
  },
  {
   "cell_type": "code",
   "execution_count": 7,
   "id": "8005efbd-e13f-4955-9352-673f7d6df244",
   "metadata": {},
   "outputs": [
    {
     "name": "stdout",
     "output_type": "stream",
     "text": [
      "['High' 'Medium' 'Low']\n"
     ]
    }
   ],
   "source": [
    "print(df['Engagement_Level'].unique())"
   ]
  },
  {
   "cell_type": "code",
   "execution_count": 8,
   "id": "f7dc2286-a9e0-4f62-aa8e-11294891fb3b",
   "metadata": {},
   "outputs": [
    {
     "name": "stdout",
     "output_type": "stream",
     "text": [
      "   Engagement_Level  Improvement_Numeric  Dashboard_Score  Profession_Code\n",
      "0                 2                    5                2                1\n",
      "1                 1                   -1                0                4\n",
      "2                 1                    6                2                0\n",
      "3                 2                    4                1                0\n",
      "4                 2                    8                0                0\n"
     ]
    }
   ],
   "source": [
    "from sklearn.preprocessing import LabelEncoder\n",
    "\n",
    "# 1. Clean and encode 'Engagement_Level'\n",
    "df['Engagement_Level'] = df['Engagement_Level'].astype(str).str.strip().str.lower()\n",
    "\n",
    "# Only keep rows with valid values\n",
    "valid_levels = {'low': 0, 'medium': 1, 'high': 2}\n",
    "df = df[df['Engagement_Level'].isin(valid_levels.keys())]\n",
    "\n",
    "df['Engagement_Level'] = df['Engagement_Level'].map(valid_levels)\n",
    "\n",
    "# 2. Create Improvement_Numeric\n",
    "df['Improvement_Numeric'] = df['Final_Quiz_marks'] - df['Quiz_marks']\n",
    "\n",
    "# 3. Encode Dashboard_Flow\n",
    "df['Dashboard_Flow'] = df['Dashboard_Flow'].astype(str).str.strip().str.lower()\n",
    "df['Dashboard_Score'] = df['Dashboard_Flow'].map({\n",
    "    'negative': 0,\n",
    "    'neutral': 1,\n",
    "    'positive': 2\n",
    "})\n",
    "\n",
    "# 4. Label encode Profession\n",
    "df['Profession'] = df['Profession'].astype(str).str.strip()\n",
    "df['Profession_Code'] = LabelEncoder().fit_transform(df['Profession'])\n",
    "\n",
    "# 5. Confirm everything is encoded\n",
    "print(df[['Engagement_Level', 'Improvement_Numeric', 'Dashboard_Score', 'Profession_Code']].head())\n"
   ]
  },
  {
   "cell_type": "code",
   "execution_count": 9,
   "id": "3f147e32-9101-47a9-a8e8-b2bd18da4288",
   "metadata": {},
   "outputs": [],
   "source": [
    "features = [\n",
    "    'Quiz_marks', 'Final_Quiz_marks', 'Interactions_Count',\n",
    "    'Time_Spent_Learning', 'Topic_Difficulty', 'Improvement_Numeric',\n",
    "    'Dashboard_Score', 'Profession_Code'\n",
    "]\n",
    "x = df[features]\n",
    "y = df['Engagement_Level']"
   ]
  },
  {
   "cell_type": "code",
   "execution_count": 10,
   "id": "c6f5bca6-4e1d-499f-8b43-eae97170fd99",
   "metadata": {},
   "outputs": [
    {
     "data": {
      "text/html": [
       "<div>\n",
       "<style scoped>\n",
       "    .dataframe tbody tr th:only-of-type {\n",
       "        vertical-align: middle;\n",
       "    }\n",
       "\n",
       "    .dataframe tbody tr th {\n",
       "        vertical-align: top;\n",
       "    }\n",
       "\n",
       "    .dataframe thead th {\n",
       "        text-align: right;\n",
       "    }\n",
       "</style>\n",
       "<table border=\"1\" class=\"dataframe\">\n",
       "  <thead>\n",
       "    <tr style=\"text-align: right;\">\n",
       "      <th></th>\n",
       "      <th>Quiz_marks</th>\n",
       "      <th>Final_Quiz_marks</th>\n",
       "      <th>Interactions_Count</th>\n",
       "      <th>Time_Spent_Learning</th>\n",
       "      <th>Topic_Difficulty</th>\n",
       "      <th>Improvement_Numeric</th>\n",
       "      <th>Dashboard_Score</th>\n",
       "      <th>Profession_Code</th>\n",
       "    </tr>\n",
       "  </thead>\n",
       "  <tbody>\n",
       "    <tr>\n",
       "      <th>0</th>\n",
       "      <td>2</td>\n",
       "      <td>7</td>\n",
       "      <td>5</td>\n",
       "      <td>127</td>\n",
       "      <td>0</td>\n",
       "      <td>5</td>\n",
       "      <td>2</td>\n",
       "      <td>1</td>\n",
       "    </tr>\n",
       "    <tr>\n",
       "      <th>1</th>\n",
       "      <td>3</td>\n",
       "      <td>2</td>\n",
       "      <td>4</td>\n",
       "      <td>115</td>\n",
       "      <td>2</td>\n",
       "      <td>-1</td>\n",
       "      <td>0</td>\n",
       "      <td>4</td>\n",
       "    </tr>\n",
       "    <tr>\n",
       "      <th>2</th>\n",
       "      <td>1</td>\n",
       "      <td>7</td>\n",
       "      <td>5</td>\n",
       "      <td>85</td>\n",
       "      <td>1</td>\n",
       "      <td>6</td>\n",
       "      <td>2</td>\n",
       "      <td>0</td>\n",
       "    </tr>\n",
       "    <tr>\n",
       "      <th>3</th>\n",
       "      <td>4</td>\n",
       "      <td>8</td>\n",
       "      <td>3</td>\n",
       "      <td>161</td>\n",
       "      <td>0</td>\n",
       "      <td>4</td>\n",
       "      <td>1</td>\n",
       "      <td>0</td>\n",
       "    </tr>\n",
       "    <tr>\n",
       "      <th>4</th>\n",
       "      <td>2</td>\n",
       "      <td>10</td>\n",
       "      <td>1</td>\n",
       "      <td>132</td>\n",
       "      <td>3</td>\n",
       "      <td>8</td>\n",
       "      <td>0</td>\n",
       "      <td>0</td>\n",
       "    </tr>\n",
       "    <tr>\n",
       "      <th>...</th>\n",
       "      <td>...</td>\n",
       "      <td>...</td>\n",
       "      <td>...</td>\n",
       "      <td>...</td>\n",
       "      <td>...</td>\n",
       "      <td>...</td>\n",
       "      <td>...</td>\n",
       "      <td>...</td>\n",
       "    </tr>\n",
       "    <tr>\n",
       "      <th>1195</th>\n",
       "      <td>5</td>\n",
       "      <td>4</td>\n",
       "      <td>3</td>\n",
       "      <td>110</td>\n",
       "      <td>0</td>\n",
       "      <td>-1</td>\n",
       "      <td>0</td>\n",
       "      <td>2</td>\n",
       "    </tr>\n",
       "    <tr>\n",
       "      <th>1196</th>\n",
       "      <td>5</td>\n",
       "      <td>10</td>\n",
       "      <td>4</td>\n",
       "      <td>95</td>\n",
       "      <td>3</td>\n",
       "      <td>5</td>\n",
       "      <td>1</td>\n",
       "      <td>1</td>\n",
       "    </tr>\n",
       "    <tr>\n",
       "      <th>1197</th>\n",
       "      <td>2</td>\n",
       "      <td>1</td>\n",
       "      <td>4</td>\n",
       "      <td>106</td>\n",
       "      <td>3</td>\n",
       "      <td>-1</td>\n",
       "      <td>1</td>\n",
       "      <td>1</td>\n",
       "    </tr>\n",
       "    <tr>\n",
       "      <th>1198</th>\n",
       "      <td>5</td>\n",
       "      <td>8</td>\n",
       "      <td>2</td>\n",
       "      <td>100</td>\n",
       "      <td>2</td>\n",
       "      <td>3</td>\n",
       "      <td>2</td>\n",
       "      <td>1</td>\n",
       "    </tr>\n",
       "    <tr>\n",
       "      <th>1199</th>\n",
       "      <td>5</td>\n",
       "      <td>2</td>\n",
       "      <td>5</td>\n",
       "      <td>14</td>\n",
       "      <td>2</td>\n",
       "      <td>-3</td>\n",
       "      <td>0</td>\n",
       "      <td>0</td>\n",
       "    </tr>\n",
       "  </tbody>\n",
       "</table>\n",
       "<p>1200 rows × 8 columns</p>\n",
       "</div>"
      ],
      "text/plain": [
       "      Quiz_marks  Final_Quiz_marks  Interactions_Count  Time_Spent_Learning  \\\n",
       "0              2                 7                   5                  127   \n",
       "1              3                 2                   4                  115   \n",
       "2              1                 7                   5                   85   \n",
       "3              4                 8                   3                  161   \n",
       "4              2                10                   1                  132   \n",
       "...          ...               ...                 ...                  ...   \n",
       "1195           5                 4                   3                  110   \n",
       "1196           5                10                   4                   95   \n",
       "1197           2                 1                   4                  106   \n",
       "1198           5                 8                   2                  100   \n",
       "1199           5                 2                   5                   14   \n",
       "\n",
       "      Topic_Difficulty  Improvement_Numeric  Dashboard_Score  Profession_Code  \n",
       "0                    0                    5                2                1  \n",
       "1                    2                   -1                0                4  \n",
       "2                    1                    6                2                0  \n",
       "3                    0                    4                1                0  \n",
       "4                    3                    8                0                0  \n",
       "...                ...                  ...              ...              ...  \n",
       "1195                 0                   -1                0                2  \n",
       "1196                 3                    5                1                1  \n",
       "1197                 3                   -1                1                1  \n",
       "1198                 2                    3                2                1  \n",
       "1199                 2                   -3                0                0  \n",
       "\n",
       "[1200 rows x 8 columns]"
      ]
     },
     "execution_count": 10,
     "metadata": {},
     "output_type": "execute_result"
    }
   ],
   "source": [
    "x"
   ]
  },
  {
   "cell_type": "code",
   "execution_count": 11,
   "id": "0ef693cc-01d0-4765-9353-b170aceacae8",
   "metadata": {},
   "outputs": [
    {
     "name": "stdout",
     "output_type": "stream",
     "text": [
      "0\n"
     ]
    }
   ],
   "source": [
    "print(df['Engagement_Level'].isna().sum())"
   ]
  },
  {
   "cell_type": "code",
   "execution_count": 12,
   "id": "c6b8b5d8-2e96-4b98-9954-91e24676fa56",
   "metadata": {},
   "outputs": [
    {
     "data": {
      "text/plain": [
       "0       2\n",
       "1       1\n",
       "2       1\n",
       "3       2\n",
       "4       2\n",
       "       ..\n",
       "1195    1\n",
       "1196    1\n",
       "1197    1\n",
       "1198    1\n",
       "1199    0\n",
       "Name: Engagement_Level, Length: 1200, dtype: int64"
      ]
     },
     "execution_count": 12,
     "metadata": {},
     "output_type": "execute_result"
    }
   ],
   "source": [
    "y"
   ]
  },
  {
   "cell_type": "code",
   "execution_count": 13,
   "id": "23a015aa-caf3-44bf-acc0-367b76055ccb",
   "metadata": {},
   "outputs": [
    {
     "name": "stdout",
     "output_type": "stream",
     "text": [
      "Engagement_Level\n",
      "1    437\n",
      "2    408\n",
      "0    355\n",
      "Name: count, dtype: int64\n"
     ]
    }
   ],
   "source": [
    "print(df['Engagement_Level'].value_counts())"
   ]
  },
  {
   "cell_type": "code",
   "execution_count": 15,
   "id": "b31314a5-92ce-40a9-9e54-79c1ba6a44e3",
   "metadata": {},
   "outputs": [],
   "source": [
    "from sklearn.model_selection import train_test_split\n",
    "x_train, x_test, y_train, y_test = train_test_split(x,y, test_size = 0.2, random_state = 42)"
   ]
  },
  {
   "cell_type": "code",
   "execution_count": 23,
   "id": "45f9da6c-e2b6-4f1a-ba14-47594b86141a",
   "metadata": {},
   "outputs": [
    {
     "data": {
      "text/plain": [
       "(1200, 8)"
      ]
     },
     "execution_count": 23,
     "metadata": {},
     "output_type": "execute_result"
    }
   ],
   "source": [
    "x.shape"
   ]
  },
  {
   "cell_type": "code",
   "execution_count": 24,
   "id": "e1a07f4e-82a8-4a01-ad7e-48ebfd72704e",
   "metadata": {},
   "outputs": [
    {
     "data": {
      "text/plain": [
       "(1200,)"
      ]
     },
     "execution_count": 24,
     "metadata": {},
     "output_type": "execute_result"
    }
   ],
   "source": [
    "y.shape"
   ]
  },
  {
   "cell_type": "markdown",
   "id": "1838fd4d-1a60-4a48-9878-d39e56ea0dae",
   "metadata": {},
   "source": [
    "## Standard Scaling"
   ]
  },
  {
   "cell_type": "code",
   "execution_count": 25,
   "id": "610dc408-91ff-45e2-88ac-20ebea2933fc",
   "metadata": {},
   "outputs": [],
   "source": [
    "from sklearn.preprocessing import StandardScaler\n",
    "scaler = StandardScaler()\n",
    "\n",
    "# Fit only on training data\n",
    "x_train_scaled = scaler.fit_transform(x_train)\n",
    "\n",
    "# Transform test data using same scaler\n",
    "x_test_scaled = scaler.transform(x_test)\n"
   ]
  },
  {
   "cell_type": "markdown",
   "id": "16ca5606-faee-4af3-b0ef-78065b6bb559",
   "metadata": {},
   "source": [
    "## Logistic Regression Accuracy 91%"
   ]
  },
  {
   "cell_type": "code",
   "execution_count": 26,
   "id": "1f4b5a46-c5d3-4ffb-a598-2fd126931dfd",
   "metadata": {},
   "outputs": [
    {
     "name": "stdout",
     "output_type": "stream",
     "text": [
      "Logistic Regression Accuracy: 0.9083333333333333\n",
      "Confusion Matrix:\n",
      " [[72  2  0]\n",
      " [ 0 76  8]\n",
      " [ 0 12 70]]\n",
      "Classification Report:\n",
      "               precision    recall  f1-score   support\n",
      "\n",
      "           0       1.00      0.97      0.99        74\n",
      "           1       0.84      0.90      0.87        84\n",
      "           2       0.90      0.85      0.88        82\n",
      "\n",
      "    accuracy                           0.91       240\n",
      "   macro avg       0.91      0.91      0.91       240\n",
      "weighted avg       0.91      0.91      0.91       240\n",
      "\n"
     ]
    },
    {
     "name": "stderr",
     "output_type": "stream",
     "text": [
      "/opt/anaconda3/lib/python3.12/site-packages/sklearn/linear_model/_logistic.py:469: ConvergenceWarning: lbfgs failed to converge (status=1):\n",
      "STOP: TOTAL NO. of ITERATIONS REACHED LIMIT.\n",
      "\n",
      "Increase the number of iterations (max_iter) or scale the data as shown in:\n",
      "    https://scikit-learn.org/stable/modules/preprocessing.html\n",
      "Please also refer to the documentation for alternative solver options:\n",
      "    https://scikit-learn.org/stable/modules/linear_model.html#logistic-regression\n",
      "  n_iter_i = _check_optimize_result(\n"
     ]
    }
   ],
   "source": [
    "from sklearn.linear_model import LogisticRegression\n",
    "from sklearn.metrics import accuracy_score, confusion_matrix, classification_report\n",
    "\n",
    "model_lr = LogisticRegression(max_iter = 1000)\n",
    "model_lr.fit(x_train, y_train)\n",
    "y_pred_lr = model_lr.predict(x_test)\n",
    "\n",
    "print(\"Logistic Regression Accuracy:\", accuracy_score(y_test, y_pred_lr))\n",
    "print(\"Confusion Matrix:\\n\", confusion_matrix(y_test, y_pred_lr))\n",
    "print(\"Classification Report:\\n\", classification_report(y_test, y_pred_lr))"
   ]
  },
  {
   "cell_type": "markdown",
   "id": "d7d73952-d157-4e1f-80bb-159c23b04cd0",
   "metadata": {},
   "source": [
    "## Decision Tree Accuracy 91%"
   ]
  },
  {
   "cell_type": "code",
   "execution_count": 27,
   "id": "a35b8659-062c-4f1a-b255-c3e273f4ffef",
   "metadata": {},
   "outputs": [
    {
     "name": "stdout",
     "output_type": "stream",
     "text": [
      "Decision Tree Accuracy: 0.9083333333333333\n",
      "Confusion Matrix:\n",
      " [[72  2  0]\n",
      " [ 0 75  9]\n",
      " [ 0 11 71]]\n",
      "Classification Report:\n",
      "               precision    recall  f1-score   support\n",
      "\n",
      "           0       1.00      0.97      0.99        74\n",
      "           1       0.85      0.89      0.87        84\n",
      "           2       0.89      0.87      0.88        82\n",
      "\n",
      "    accuracy                           0.91       240\n",
      "   macro avg       0.91      0.91      0.91       240\n",
      "weighted avg       0.91      0.91      0.91       240\n",
      "\n"
     ]
    }
   ],
   "source": [
    "from sklearn.tree import DecisionTreeClassifier\n",
    "\n",
    "model_dt = DecisionTreeClassifier()\n",
    "model_dt.fit(x_train, y_train)\n",
    "y_pred_dt = model_dt.predict(x_test)\n",
    "\n",
    "print(\"Decision Tree Accuracy:\", accuracy_score(y_test, y_pred_dt))\n",
    "print(\"Confusion Matrix:\\n\", confusion_matrix(y_test, y_pred_dt))\n",
    "print(\"Classification Report:\\n\", classification_report(y_test, y_pred_dt))"
   ]
  },
  {
   "cell_type": "markdown",
   "id": "b9feb312-ca8d-4a9c-86e5-7c8e942acb6a",
   "metadata": {},
   "source": [
    "## Random Forest Accuracy 93%"
   ]
  },
  {
   "cell_type": "code",
   "execution_count": 28,
   "id": "da91889e-58c9-4919-88e8-6bb35ef1b74e",
   "metadata": {},
   "outputs": [
    {
     "name": "stdout",
     "output_type": "stream",
     "text": [
      "Random Forest Accuracy: 0.9291666666666667\n",
      "Confusion Matrix:\n",
      " [[74  0  0]\n",
      " [ 0 76  8]\n",
      " [ 0  9 73]]\n",
      "Classification Report:\n",
      "               precision    recall  f1-score   support\n",
      "\n",
      "           0       1.00      1.00      1.00        74\n",
      "           1       0.89      0.90      0.90        84\n",
      "           2       0.90      0.89      0.90        82\n",
      "\n",
      "    accuracy                           0.93       240\n",
      "   macro avg       0.93      0.93      0.93       240\n",
      "weighted avg       0.93      0.93      0.93       240\n",
      "\n"
     ]
    }
   ],
   "source": [
    "from sklearn.ensemble import RandomForestClassifier\n",
    "\n",
    "model_rf = RandomForestClassifier()\n",
    "model_rf.fit(x_train, y_train)\n",
    "y_pred_rf = model_rf.predict(x_test)\n",
    "\n",
    "print(\"Random Forest Accuracy:\", accuracy_score(y_test, y_pred_rf))\n",
    "print(\"Confusion Matrix:\\n\", confusion_matrix(y_test, y_pred_rf))\n",
    "print(\"Classification Report:\\n\", classification_report(y_test, y_pred_rf))\n"
   ]
  },
  {
   "cell_type": "markdown",
   "id": "fabcd714-862a-4b73-b09d-5b822d135b9a",
   "metadata": {},
   "source": [
    "## K-Nearest Neighbors Accuracy 90%"
   ]
  },
  {
   "cell_type": "code",
   "execution_count": 29,
   "id": "b5de88c1-7986-4b35-8001-2fd722203b2b",
   "metadata": {},
   "outputs": [
    {
     "name": "stdout",
     "output_type": "stream",
     "text": [
      "KNN Accuracy: 0.9041666666666667\n",
      "Confusion Matrix:\n",
      " [[72  2  0]\n",
      " [ 0 74 10]\n",
      " [ 0 11 71]]\n",
      "Classification Report:\n",
      "               precision    recall  f1-score   support\n",
      "\n",
      "           0       1.00      0.97      0.99        74\n",
      "           1       0.85      0.88      0.87        84\n",
      "           2       0.88      0.87      0.87        82\n",
      "\n",
      "    accuracy                           0.90       240\n",
      "   macro avg       0.91      0.91      0.91       240\n",
      "weighted avg       0.91      0.90      0.90       240\n",
      "\n"
     ]
    }
   ],
   "source": [
    "from sklearn.neighbors import KNeighborsClassifier\n",
    "\n",
    "model_knn = KNeighborsClassifier()\n",
    "model_knn.fit(x_train, y_train)\n",
    "y_pred_knn = model_knn.predict(x_test)\n",
    "\n",
    "print(\"KNN Accuracy:\", accuracy_score(y_test, y_pred_knn))\n",
    "print(\"Confusion Matrix:\\n\", confusion_matrix(y_test, y_pred_knn))\n",
    "print(\"Classification Report:\\n\", classification_report(y_test, y_pred_knn))\n"
   ]
  },
  {
   "cell_type": "markdown",
   "id": "65c6b9c9-e9d7-4fa0-85be-e1e2fd1e7a1f",
   "metadata": {},
   "source": [
    "## Support Vector Machine Accuracy 92%"
   ]
  },
  {
   "cell_type": "code",
   "execution_count": 30,
   "id": "c467f96a-1eaf-41fb-bb9d-36b941cfd8db",
   "metadata": {},
   "outputs": [
    {
     "name": "stdout",
     "output_type": "stream",
     "text": [
      "SVM Accuracy: 0.9166666666666666\n",
      "Confusion Matrix:\n",
      " [[74  0  0]\n",
      " [ 0 79  5]\n",
      " [ 0 15 67]]\n",
      "Classification Report:\n",
      "               precision    recall  f1-score   support\n",
      "\n",
      "           0       1.00      1.00      1.00        74\n",
      "           1       0.84      0.94      0.89        84\n",
      "           2       0.93      0.82      0.87        82\n",
      "\n",
      "    accuracy                           0.92       240\n",
      "   macro avg       0.92      0.92      0.92       240\n",
      "weighted avg       0.92      0.92      0.92       240\n",
      "\n"
     ]
    }
   ],
   "source": [
    "from sklearn.svm import SVC\n",
    "\n",
    "model_svm = SVC(probability=True)\n",
    "model_svm.fit(x_train, y_train)\n",
    "y_pred_svm = model_svm.predict(x_test)\n",
    "\n",
    "print(\"SVM Accuracy:\", accuracy_score(y_test, y_pred_svm))\n",
    "print(\"Confusion Matrix:\\n\", confusion_matrix(y_test, y_pred_svm))\n",
    "print(\"Classification Report:\\n\", classification_report(y_test, y_pred_svm))\n"
   ]
  },
  {
   "cell_type": "markdown",
   "id": "e05cf622-9da7-4b65-9be4-3959102722cc",
   "metadata": {},
   "source": [
    "## XGBoost Accuracy 93%"
   ]
  },
  {
   "cell_type": "code",
   "execution_count": 34,
   "id": "ad4a8293-5d12-4fd7-9ed8-669a1b8222e1",
   "metadata": {},
   "outputs": [
    {
     "name": "stdout",
     "output_type": "stream",
     "text": [
      "The history saving thread hit an unexpected error (OperationalError('attempt to write a readonly database')).History will not be written to the database.\n",
      "XGBoost Accuracy: 0.925\n",
      "Confusion Matrix:\n",
      " [[73  1  0]\n",
      " [ 0 78  6]\n",
      " [ 0 11 71]]\n",
      "Classification Report:\n",
      "               precision    recall  f1-score   support\n",
      "\n",
      "           0       1.00      0.99      0.99        74\n",
      "           1       0.87      0.93      0.90        84\n",
      "           2       0.92      0.87      0.89        82\n",
      "\n",
      "    accuracy                           0.93       240\n",
      "   macro avg       0.93      0.93      0.93       240\n",
      "weighted avg       0.93      0.93      0.93       240\n",
      "\n"
     ]
    },
    {
     "name": "stderr",
     "output_type": "stream",
     "text": [
      "/opt/anaconda3/lib/python3.12/site-packages/xgboost/training.py:183: UserWarning: [02:18:55] WARNING: /Users/runner/work/xgboost/xgboost/src/learner.cc:738: \n",
      "Parameters: { \"use_label_encoder\" } are not used.\n",
      "\n",
      "  bst.update(dtrain, iteration=i, fobj=obj)\n"
     ]
    }
   ],
   "source": [
    "import xgboost as xgb\n",
    "\n",
    "model_xgb = xgb.XGBClassifier(use_label_encoder=False, eval_metric='mlogloss')\n",
    "model_xgb.fit(x_train, y_train)\n",
    "y_pred_xgb = model_xgb.predict(x_test)\n",
    "\n",
    "print(\"XGBoost Accuracy:\", accuracy_score(y_test, y_pred_xgb))\n",
    "print(\"Confusion Matrix:\\n\", confusion_matrix(y_test, y_pred_xgb))\n",
    "print(\"Classification Report:\\n\", classification_report(y_test, y_pred_xgb))\n"
   ]
  },
  {
   "cell_type": "markdown",
   "id": "2299f864-3fbb-4627-81c0-69b796d97e93",
   "metadata": {},
   "source": [
    "## Gradient Boosting Accuracy 94%"
   ]
  },
  {
   "cell_type": "code",
   "execution_count": 35,
   "id": "2b31b898-90bf-49c1-b6ba-5eb6360e0951",
   "metadata": {},
   "outputs": [
    {
     "name": "stdout",
     "output_type": "stream",
     "text": [
      "Gradient Boosting Accuracy: 0.9375\n",
      "Confusion Matrix:\n",
      " [[73  1  0]\n",
      " [ 0 78  6]\n",
      " [ 0  8 74]]\n",
      "Classification Report:\n",
      "               precision    recall  f1-score   support\n",
      "\n",
      "           0       1.00      0.99      0.99        74\n",
      "           1       0.90      0.93      0.91        84\n",
      "           2       0.93      0.90      0.91        82\n",
      "\n",
      "    accuracy                           0.94       240\n",
      "   macro avg       0.94      0.94      0.94       240\n",
      "weighted avg       0.94      0.94      0.94       240\n",
      "\n"
     ]
    }
   ],
   "source": [
    "from sklearn.ensemble import GradientBoostingClassifier\n",
    "\n",
    "model_gb = GradientBoostingClassifier()\n",
    "model_gb.fit(x_train, y_train)\n",
    "y_pred_gb = model_gb.predict(x_test)\n",
    "\n",
    "print(\"Gradient Boosting Accuracy:\", accuracy_score(y_test, y_pred_gb))\n",
    "print(\"Confusion Matrix:\\n\", confusion_matrix(y_test, y_pred_gb))\n",
    "print(\"Classification Report:\\n\", classification_report(y_test, y_pred_gb))\n"
   ]
  },
  {
   "cell_type": "markdown",
   "id": "c2363845-8343-4c54-a3bb-63cae013727d",
   "metadata": {},
   "source": [
    "## Confusion Matrix using Gradient Boosting"
   ]
  },
  {
   "cell_type": "code",
   "execution_count": 37,
   "id": "def24f33-9f4c-4f3b-968d-5a261bc6ee95",
   "metadata": {},
   "outputs": [
    {
     "data": {
      "image/png": "[encoded data removed]",
      "text/plain": [
       "<Figure size 640x480 with 2 Axes>"
      ]
     },
     "metadata": {},
     "output_type": "display_data"
    }
   ],
   "source": [
    "from sklearn.metrics import ConfusionMatrixDisplay\n",
    "\n",
    "cm = confusion_matrix(y_test, y_pred_gb)\n",
    "labels = ['Low', 'Medium', 'High']\n",
    "\n",
    "sns.heatmap(cm, annot=True, fmt = 'd', cmap = 'Blues', xticklabels=labels, yticklabels=labels)\n",
    "plt.xlabel('Predicted')\n",
    "plt.ylabel('Actual')\n",
    "plt.title('Confusion Matrix  By Gradient Boosting')\n",
    "plt.show()"
   ]
  },
  {
   "cell_type": "code",
   "execution_count": null,
   "id": "eb85ddd0-977c-483e-b2e2-3b461cad69c1",
   "metadata": {},
   "outputs": [],
   "source": [
    "##Most Affecting Feature"
   ]
  },
  {
   "cell_type": "code",
   "execution_count": 38,
   "id": "35524129-82e3-4f2d-bc09-38e14768f739",
   "metadata": {},
   "outputs": [
    {
     "data": {
      "image/png": "[encoded data removed]",
      "text/plain": [
       "<Figure size 1000x600 with 1 Axes>"
      ]
     },
     "metadata": {},
     "output_type": "display_data"
    }
   ],
   "source": [
    "importances = model_gb.feature_importances_\n",
    "feature_names = x.columns\n",
    "\n",
    "plt.figure(figsize=(10, 6))\n",
    "sns.barplot(x=importances, y=feature_names)\n",
    "plt.title('Feature Importance - Gradient Boosting')\n",
    "plt.xlabel('Importance')\n",
    "plt.ylabel('Features')\n",
    "plt.show()"
   ]
  },
  {
   "cell_type": "code",
   "execution_count": null,
   "id": "fd2038db-859d-4cdc-a66b-dd46c6c21ebe",
   "metadata": {},
   "outputs": [],
   "source": []
  }
 ],
 "metadata": {
  "kernelspec": {
   "display_name": "Python 3 (ipykernel)",
   "language": "python",
   "name": "python3"
  },
  "language_info": {
   "codemirror_mode": {
    "name": "ipython",
    "version": 3
   },
   "file_extension": ".py",
   "mimetype": "text/x-python",
   "name": "python",
   "nbconvert_exporter": "python",
   "pygments_lexer": "ipython3",
   "version": "3.12.7"
  }
 },
 "nbformat": 4,
 "nbformat_minor": 5
}
